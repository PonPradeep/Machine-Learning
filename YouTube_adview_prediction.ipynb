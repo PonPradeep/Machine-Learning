{
  "nbformat": 4,
  "nbformat_minor": 0,
  "metadata": {
    "kernelspec": {
      "display_name": "Python 3",
      "language": "python",
      "name": "python3"
    },
    "language_info": {
      "codemirror_mode": {
        "name": "ipython",
        "version": 3
      },
      "file_extension": ".py",
      "mimetype": "text/x-python",
      "name": "python",
      "nbconvert_exporter": "python",
      "pygments_lexer": "ipython3",
      "version": "3.8.5"
    },
    "colab": {
      "name": "YouTube_adview_prediction.ipynb",
      "provenance": [],
      "collapsed_sections": []
    }
  },
  "cells": [
    {
      "cell_type": "markdown",
      "metadata": {
        "id": "oTlwN3NucBYZ"
      },
      "source": [
        "# Import libraries"
      ]
    },
    {
      "cell_type": "code",
      "metadata": {
        "id": "iLx1YCnr2s48"
      },
      "source": [
        "import numpy as np\n",
        "import pandas as pd\n",
        "import matplotlib.pyplot as plt\n",
        "import seaborn as sn"
      ],
      "execution_count": null,
      "outputs": []
    },
    {
      "cell_type": "markdown",
      "metadata": {
        "id": "8xmNHRGoc4bZ"
      },
      "source": [
        "# Import datasets"
      ]
    },
    {
      "cell_type": "code",
      "metadata": {
        "colab": {
          "base_uri": "https://localhost:8080/",
          "height": 203
        },
        "id": "haYY3oB92s4_",
        "outputId": "d4dc2f61-ee14-4adb-fbfd-a01aa6c0e5b8"
      },
      "source": [
        "#importing dataset\n",
        "data = pd.read_csv(\"https://raw.githubusercontent.com/PonPradeep/Machine-Learning/main/train.csv\")\n",
        "data.head()"
      ],
      "execution_count": null,
      "outputs": [
        {
          "output_type": "execute_result",
          "data": {
            "text/html": [
              "<div>\n",
              "<style scoped>\n",
              "    .dataframe tbody tr th:only-of-type {\n",
              "        vertical-align: middle;\n",
              "    }\n",
              "\n",
              "    .dataframe tbody tr th {\n",
              "        vertical-align: top;\n",
              "    }\n",
              "\n",
              "    .dataframe thead th {\n",
              "        text-align: right;\n",
              "    }\n",
              "</style>\n",
              "<table border=\"1\" class=\"dataframe\">\n",
              "  <thead>\n",
              "    <tr style=\"text-align: right;\">\n",
              "      <th></th>\n",
              "      <th>vidid</th>\n",
              "      <th>adview</th>\n",
              "      <th>views</th>\n",
              "      <th>likes</th>\n",
              "      <th>dislikes</th>\n",
              "      <th>comment</th>\n",
              "      <th>published</th>\n",
              "      <th>duration</th>\n",
              "      <th>category</th>\n",
              "    </tr>\n",
              "  </thead>\n",
              "  <tbody>\n",
              "    <tr>\n",
              "      <th>0</th>\n",
              "      <td>VID_18655</td>\n",
              "      <td>40</td>\n",
              "      <td>1031602</td>\n",
              "      <td>8523</td>\n",
              "      <td>363</td>\n",
              "      <td>1095</td>\n",
              "      <td>2016-09-14</td>\n",
              "      <td>PT7M37S</td>\n",
              "      <td>F</td>\n",
              "    </tr>\n",
              "    <tr>\n",
              "      <th>1</th>\n",
              "      <td>VID_14135</td>\n",
              "      <td>2</td>\n",
              "      <td>1707</td>\n",
              "      <td>56</td>\n",
              "      <td>2</td>\n",
              "      <td>6</td>\n",
              "      <td>2016-10-01</td>\n",
              "      <td>PT9M30S</td>\n",
              "      <td>D</td>\n",
              "    </tr>\n",
              "    <tr>\n",
              "      <th>2</th>\n",
              "      <td>VID_2187</td>\n",
              "      <td>1</td>\n",
              "      <td>2023</td>\n",
              "      <td>25</td>\n",
              "      <td>0</td>\n",
              "      <td>2</td>\n",
              "      <td>2016-07-02</td>\n",
              "      <td>PT2M16S</td>\n",
              "      <td>C</td>\n",
              "    </tr>\n",
              "    <tr>\n",
              "      <th>3</th>\n",
              "      <td>VID_23096</td>\n",
              "      <td>6</td>\n",
              "      <td>620860</td>\n",
              "      <td>777</td>\n",
              "      <td>161</td>\n",
              "      <td>153</td>\n",
              "      <td>2016-07-27</td>\n",
              "      <td>PT4M22S</td>\n",
              "      <td>H</td>\n",
              "    </tr>\n",
              "    <tr>\n",
              "      <th>4</th>\n",
              "      <td>VID_10175</td>\n",
              "      <td>1</td>\n",
              "      <td>666</td>\n",
              "      <td>1</td>\n",
              "      <td>0</td>\n",
              "      <td>0</td>\n",
              "      <td>2016-06-29</td>\n",
              "      <td>PT31S</td>\n",
              "      <td>D</td>\n",
              "    </tr>\n",
              "  </tbody>\n",
              "</table>\n",
              "</div>"
            ],
            "text/plain": [
              "       vidid  adview    views likes  ... comment   published duration category\n",
              "0  VID_18655      40  1031602  8523  ...    1095  2016-09-14  PT7M37S        F\n",
              "1  VID_14135       2     1707    56  ...       6  2016-10-01  PT9M30S        D\n",
              "2   VID_2187       1     2023    25  ...       2  2016-07-02  PT2M16S        C\n",
              "3  VID_23096       6   620860   777  ...     153  2016-07-27  PT4M22S        H\n",
              "4  VID_10175       1      666     1  ...       0  2016-06-29    PT31S        D\n",
              "\n",
              "[5 rows x 9 columns]"
            ]
          },
          "metadata": {},
          "execution_count": 64
        }
      ]
    },
    {
      "cell_type": "markdown",
      "metadata": {
        "id": "qafjHflXv9JI"
      },
      "source": [
        "# Data Cleaning and Visualization\n"
      ]
    },
    {
      "cell_type": "code",
      "metadata": {
        "colab": {
          "base_uri": "https://localhost:8080/"
        },
        "id": "qcB-d4La2s5A",
        "outputId": "8fcc101b-57c7-4df2-c90c-e0d24cdb3099"
      },
      "source": [
        "data.shape"
      ],
      "execution_count": null,
      "outputs": [
        {
          "output_type": "execute_result",
          "data": {
            "text/plain": [
              "(14999, 9)"
            ]
          },
          "metadata": {},
          "execution_count": 4
        }
      ]
    },
    {
      "cell_type": "code",
      "metadata": {
        "colab": {
          "base_uri": "https://localhost:8080/"
        },
        "id": "0jcdF63A2s5A",
        "outputId": "b5af7684-7757-4ecb-e60f-9389343ddda7"
      },
      "source": [
        "data.dtypes\n",
        "data.info()"
      ],
      "execution_count": null,
      "outputs": [
        {
          "output_type": "stream",
          "text": [
            "<class 'pandas.core.frame.DataFrame'>\n",
            "RangeIndex: 14999 entries, 0 to 14998\n",
            "Data columns (total 9 columns):\n",
            " #   Column     Non-Null Count  Dtype \n",
            "---  ------     --------------  ----- \n",
            " 0   vidid      14999 non-null  object\n",
            " 1   adview     14999 non-null  int64 \n",
            " 2   views      14999 non-null  object\n",
            " 3   likes      14999 non-null  object\n",
            " 4   dislikes   14999 non-null  object\n",
            " 5   comment    14999 non-null  object\n",
            " 6   published  14999 non-null  object\n",
            " 7   duration   14999 non-null  object\n",
            " 8   category   14999 non-null  object\n",
            "dtypes: int64(1), object(8)\n",
            "memory usage: 1.0+ MB\n"
          ],
          "name": "stdout"
        }
      ]
    },
    {
      "cell_type": "code",
      "metadata": {
        "colab": {
          "base_uri": "https://localhost:8080/"
        },
        "id": "HlWGOLXw2s5B",
        "outputId": "6d2b4f01-b718-4af3-8109-7a98f8b6ccfb"
      },
      "source": [
        "data.isnull().sum()"
      ],
      "execution_count": null,
      "outputs": [
        {
          "output_type": "execute_result",
          "data": {
            "text/plain": [
              "vidid        0\n",
              "adview       0\n",
              "views        0\n",
              "likes        0\n",
              "dislikes     0\n",
              "comment      0\n",
              "published    0\n",
              "duration     0\n",
              "category     0\n",
              "dtype: int64"
            ]
          },
          "metadata": {},
          "execution_count": 6
        }
      ]
    },
    {
      "cell_type": "code",
      "metadata": {
        "colab": {
          "base_uri": "https://localhost:8080/",
          "height": 265
        },
        "id": "k5R53mTk2s5C",
        "outputId": "47e85dd4-3371-430a-f7ce-76d356ed03a4"
      },
      "source": [
        "plt.hist(data['category'],bins=15)\n",
        "plt.show()"
      ],
      "execution_count": null,
      "outputs": [
        {
          "output_type": "display_data",
          "data": {
            "image/png": "[encoded data removed]",
            "text/plain": [
              "<Figure size 432x288 with 1 Axes>"
            ]
          },
          "metadata": {
            "needs_background": "light"
          }
        }
      ]
    },
    {
      "cell_type": "code",
      "metadata": {
        "colab": {
          "base_uri": "https://localhost:8080/",
          "height": 276
        },
        "id": "wJFTQJQQ2s5C",
        "outputId": "ce3bf654-2129-4505-8975-cc0b5ecf1550"
      },
      "source": [
        "plt.plot(data['adview'])\n",
        "plt.show()"
      ],
      "execution_count": null,
      "outputs": [
        {
          "output_type": "display_data",
          "data": {
            "image/png": "[encoded data removed]",
            "text/plain": [
              "<Figure size 432x288 with 1 Axes>"
            ]
          },
          "metadata": {
            "needs_background": "light"
          }
        }
      ]
    },
    {
      "cell_type": "code",
      "metadata": {
        "colab": {
          "base_uri": "https://localhost:8080/",
          "height": 293
        },
        "id": "sXe0Hggg2s5D",
        "outputId": "68cc85b1-67f5-4c92-bf5a-ee563d639a23"
      },
      "source": [
        "# removing outliers\n",
        "data['adview'] = data['adview'][data['adview']<2000000]\n",
        "plt.plot(data['adview'])"
      ],
      "execution_count": null,
      "outputs": [
        {
          "output_type": "execute_result",
          "data": {
            "text/plain": [
              "[<matplotlib.lines.Line2D at 0x7f4887e4f0d0>]"
            ]
          },
          "metadata": {},
          "execution_count": 20
        },
        {
          "output_type": "display_data",
          "data": {
            "image/png": "[encoded data removed]",
            "text/plain": [
              "<Figure size 432x288 with 1 Axes>"
            ]
          },
          "metadata": {
            "needs_background": "light"
          }
        }
      ]
    },
    {
      "cell_type": "code",
      "metadata": {
        "colab": {
          "base_uri": "https://localhost:8080/",
          "height": 203
        },
        "id": "exaOXOKr2s5E",
        "outputId": "430e984e-8bb0-4df7-e91a-a86f6b7be6f0"
      },
      "source": [
        "# Removing value 'F' from the columns\n",
        "numericals = ['views','likes','dislikes','comment']\n",
        "data[numericals] = data[numericals][data[numericals]!='F']\n",
        "data[numericals].head()"
      ],
      "execution_count": null,
      "outputs": [
        {
          "output_type": "execute_result",
          "data": {
            "text/html": [
              "<div>\n",
              "<style scoped>\n",
              "    .dataframe tbody tr th:only-of-type {\n",
              "        vertical-align: middle;\n",
              "    }\n",
              "\n",
              "    .dataframe tbody tr th {\n",
              "        vertical-align: top;\n",
              "    }\n",
              "\n",
              "    .dataframe thead th {\n",
              "        text-align: right;\n",
              "    }\n",
              "</style>\n",
              "<table border=\"1\" class=\"dataframe\">\n",
              "  <thead>\n",
              "    <tr style=\"text-align: right;\">\n",
              "      <th></th>\n",
              "      <th>views</th>\n",
              "      <th>likes</th>\n",
              "      <th>dislikes</th>\n",
              "      <th>comment</th>\n",
              "    </tr>\n",
              "  </thead>\n",
              "  <tbody>\n",
              "    <tr>\n",
              "      <th>0</th>\n",
              "      <td>1031602</td>\n",
              "      <td>8523</td>\n",
              "      <td>363</td>\n",
              "      <td>1095</td>\n",
              "    </tr>\n",
              "    <tr>\n",
              "      <th>1</th>\n",
              "      <td>1707</td>\n",
              "      <td>56</td>\n",
              "      <td>2</td>\n",
              "      <td>6</td>\n",
              "    </tr>\n",
              "    <tr>\n",
              "      <th>2</th>\n",
              "      <td>2023</td>\n",
              "      <td>25</td>\n",
              "      <td>0</td>\n",
              "      <td>2</td>\n",
              "    </tr>\n",
              "    <tr>\n",
              "      <th>3</th>\n",
              "      <td>620860</td>\n",
              "      <td>777</td>\n",
              "      <td>161</td>\n",
              "      <td>153</td>\n",
              "    </tr>\n",
              "    <tr>\n",
              "      <th>4</th>\n",
              "      <td>666</td>\n",
              "      <td>1</td>\n",
              "      <td>0</td>\n",
              "      <td>0</td>\n",
              "    </tr>\n",
              "  </tbody>\n",
              "</table>\n",
              "</div>"
            ],
            "text/plain": [
              "     views likes dislikes comment\n",
              "0  1031602  8523      363    1095\n",
              "1     1707    56        2       6\n",
              "2     2023    25        0       2\n",
              "3   620860   777      161     153\n",
              "4      666     1        0       0"
            ]
          },
          "metadata": {},
          "execution_count": 21
        }
      ]
    },
    {
      "cell_type": "code",
      "metadata": {
        "colab": {
          "base_uri": "https://localhost:8080/"
        },
        "id": "xxqvCmm52s5E",
        "outputId": "9b363e64-9746-46c6-c548-5ac0db9fc565"
      },
      "source": [
        "# Convert values to integers for views, likes, comments, dislikes and adview\n",
        "data[numericals] = data[numericals].apply(pd.to_numeric)\n",
        "data.info()"
      ],
      "execution_count": null,
      "outputs": [
        {
          "output_type": "stream",
          "text": [
            "<class 'pandas.core.frame.DataFrame'>\n",
            "RangeIndex: 14999 entries, 0 to 14998\n",
            "Data columns (total 9 columns):\n",
            " #   Column     Non-Null Count  Dtype  \n",
            "---  ------     --------------  -----  \n",
            " 0   vidid      14999 non-null  object \n",
            " 1   adview     14998 non-null  float64\n",
            " 2   views      14997 non-null  float64\n",
            " 3   likes      14844 non-null  float64\n",
            " 4   dislikes   14844 non-null  float64\n",
            " 5   comment    14766 non-null  float64\n",
            " 6   published  14999 non-null  object \n",
            " 7   duration   14999 non-null  object \n",
            " 8   category   14999 non-null  object \n",
            "dtypes: float64(5), object(4)\n",
            "memory usage: 1.0+ MB\n"
          ],
          "name": "stdout"
        }
      ]
    },
    {
      "cell_type": "code",
      "metadata": {
        "colab": {
          "base_uri": "https://localhost:8080/",
          "height": 487
        },
        "id": "FhUy0d7X2s5D",
        "outputId": "93aef23e-eb89-42ed-f08a-88231c03ce65"
      },
      "source": [
        "# Heatmap\n",
        "f, ax = plt.subplots(figsize=(10, 8))\n",
        "corr = data.corr()\n",
        "sn.heatmap(corr, mask=np.zeros_like(corr, dtype=np.bool), cmap=sn.diverging_palette(220, 10, as_cmap=True),\n",
        "           square=True, ax=ax,annot=True)\n",
        "plt.show()"
      ],
      "execution_count": null,
      "outputs": [
        {
          "output_type": "display_data",
          "data": {
            "image/png": "[encoded data removed]",
            "text/plain": [
              "<Figure size 720x576 with 2 Axes>"
            ]
          },
          "metadata": {
            "needs_background": "light"
          }
        }
      ]
    },
    {
      "cell_type": "code",
      "metadata": {
        "colab": {
          "base_uri": "https://localhost:8080/"
        },
        "id": "ImSMSLmX2s5F",
        "outputId": "05471b55-600c-4f10-ee4b-2a8bf5db6700"
      },
      "source": [
        "column_vidid =data['vidid']\n",
        "column_vidid"
      ],
      "execution_count": null,
      "outputs": [
        {
          "output_type": "execute_result",
          "data": {
            "text/plain": [
              "0        VID_18655\n",
              "1        VID_14135\n",
              "2         VID_2187\n",
              "3        VID_23096\n",
              "4        VID_10175\n",
              "           ...    \n",
              "14994       VID_31\n",
              "14995     VID_5861\n",
              "14996      VID_805\n",
              "14997    VID_19843\n",
              "14998     VID_8534\n",
              "Name: vidid, Length: 14999, dtype: object"
            ]
          },
          "metadata": {},
          "execution_count": 24
        }
      ]
    },
    {
      "cell_type": "code",
      "metadata": {
        "colab": {
          "base_uri": "https://localhost:8080/"
        },
        "id": "mfQPTG9U2s5F",
        "outputId": "98c7e8bd-da33-48e1-c35a-8d432bc27130"
      },
      "source": [
        "data['category'].unique(), data['category'].nunique()"
      ],
      "execution_count": null,
      "outputs": [
        {
          "output_type": "execute_result",
          "data": {
            "text/plain": [
              "(array(['F', 'D', 'C', 'H', 'E', 'B', 'G', 'A'], dtype=object), 8)"
            ]
          },
          "metadata": {},
          "execution_count": 25
        }
      ]
    },
    {
      "cell_type": "code",
      "metadata": {
        "colab": {
          "base_uri": "https://localhost:8080/"
        },
        "id": "p3PSiH_t2s5F",
        "outputId": "46fc14af-8251-4b8a-9077-86687c0e2631"
      },
      "source": [
        "cate = {'A':1, \"B\":2, \"C\":3, \"D\":4, \"E\":5, \"F\":6, \"G\":7, \"H\":8}\n",
        "data['category']= data['category'].map(cate)\n",
        "data['category']"
      ],
      "execution_count": null,
      "outputs": [
        {
          "output_type": "execute_result",
          "data": {
            "text/plain": [
              "0        6\n",
              "1        4\n",
              "2        3\n",
              "3        8\n",
              "4        4\n",
              "        ..\n",
              "14994    1\n",
              "14995    4\n",
              "14996    2\n",
              "14997    7\n",
              "14998    4\n",
              "Name: category, Length: 14999, dtype: int64"
            ]
          },
          "metadata": {},
          "execution_count": 26
        }
      ]
    },
    {
      "cell_type": "code",
      "metadata": {
        "colab": {
          "base_uri": "https://localhost:8080/",
          "height": 203
        },
        "id": "xVhAYAzY2s5F",
        "outputId": "ffd4a5cd-9a48-444d-ed04-9040eb730080"
      },
      "source": [
        "from sklearn.preprocessing import LabelEncoder\n",
        "data['vidid']= LabelEncoder().fit_transform(data['vidid'])\n",
        "data['published']= LabelEncoder().fit_transform(data['published'])\n",
        "data.head()"
      ],
      "execution_count": null,
      "outputs": [
        {
          "output_type": "execute_result",
          "data": {
            "text/html": [
              "<div>\n",
              "<style scoped>\n",
              "    .dataframe tbody tr th:only-of-type {\n",
              "        vertical-align: middle;\n",
              "    }\n",
              "\n",
              "    .dataframe tbody tr th {\n",
              "        vertical-align: top;\n",
              "    }\n",
              "\n",
              "    .dataframe thead th {\n",
              "        text-align: right;\n",
              "    }\n",
              "</style>\n",
              "<table border=\"1\" class=\"dataframe\">\n",
              "  <thead>\n",
              "    <tr style=\"text-align: right;\">\n",
              "      <th></th>\n",
              "      <th>vidid</th>\n",
              "      <th>adview</th>\n",
              "      <th>views</th>\n",
              "      <th>likes</th>\n",
              "      <th>dislikes</th>\n",
              "      <th>comment</th>\n",
              "      <th>published</th>\n",
              "      <th>duration</th>\n",
              "      <th>category</th>\n",
              "    </tr>\n",
              "  </thead>\n",
              "  <tbody>\n",
              "    <tr>\n",
              "      <th>0</th>\n",
              "      <td>6078</td>\n",
              "      <td>40.0</td>\n",
              "      <td>1031602.0</td>\n",
              "      <td>8523.0</td>\n",
              "      <td>363.0</td>\n",
              "      <td>1095.0</td>\n",
              "      <td>2170</td>\n",
              "      <td>PT7M37S</td>\n",
              "      <td>6</td>\n",
              "    </tr>\n",
              "    <tr>\n",
              "      <th>1</th>\n",
              "      <td>2869</td>\n",
              "      <td>2.0</td>\n",
              "      <td>1707.0</td>\n",
              "      <td>56.0</td>\n",
              "      <td>2.0</td>\n",
              "      <td>6.0</td>\n",
              "      <td>2187</td>\n",
              "      <td>PT9M30S</td>\n",
              "      <td>4</td>\n",
              "    </tr>\n",
              "    <tr>\n",
              "      <th>2</th>\n",
              "      <td>8339</td>\n",
              "      <td>1.0</td>\n",
              "      <td>2023.0</td>\n",
              "      <td>25.0</td>\n",
              "      <td>0.0</td>\n",
              "      <td>2.0</td>\n",
              "      <td>2096</td>\n",
              "      <td>PT2M16S</td>\n",
              "      <td>3</td>\n",
              "    </tr>\n",
              "    <tr>\n",
              "      <th>3</th>\n",
              "      <td>9215</td>\n",
              "      <td>6.0</td>\n",
              "      <td>620860.0</td>\n",
              "      <td>777.0</td>\n",
              "      <td>161.0</td>\n",
              "      <td>153.0</td>\n",
              "      <td>2121</td>\n",
              "      <td>PT4M22S</td>\n",
              "      <td>8</td>\n",
              "    </tr>\n",
              "    <tr>\n",
              "      <th>4</th>\n",
              "      <td>123</td>\n",
              "      <td>1.0</td>\n",
              "      <td>666.0</td>\n",
              "      <td>1.0</td>\n",
              "      <td>0.0</td>\n",
              "      <td>0.0</td>\n",
              "      <td>2093</td>\n",
              "      <td>PT31S</td>\n",
              "      <td>4</td>\n",
              "    </tr>\n",
              "  </tbody>\n",
              "</table>\n",
              "</div>"
            ],
            "text/plain": [
              "   vidid  adview      views   likes  ...  comment  published  duration category\n",
              "0   6078    40.0  1031602.0  8523.0  ...   1095.0       2170   PT7M37S        6\n",
              "1   2869     2.0     1707.0    56.0  ...      6.0       2187   PT9M30S        4\n",
              "2   8339     1.0     2023.0    25.0  ...      2.0       2096   PT2M16S        3\n",
              "3   9215     6.0   620860.0   777.0  ...    153.0       2121   PT4M22S        8\n",
              "4    123     1.0      666.0     1.0  ...      0.0       2093     PT31S        4\n",
              "\n",
              "[5 rows x 9 columns]"
            ]
          },
          "metadata": {},
          "execution_count": 27
        }
      ]
    },
    {
      "cell_type": "code",
      "metadata": {
        "id": "EljtVUQA2s5G"
      },
      "source": [
        "# Convert Time_in_sec for duration\n",
        "import datetime\n",
        "import time\n",
        "\n",
        "def checki(x):\n",
        "    y = x[2:]\n",
        "  \n",
        "    h = ''\n",
        "    m = ''\n",
        "    s = ''\n",
        "    mm = ''\n",
        "    P = ['H','M','S']\n",
        "    for i in y:\n",
        "        if i not in P:\n",
        "            mm+=i\n",
        "        else:\n",
        "            if(i==\"H\"):\n",
        "                h = mm\n",
        "                mm = ''\n",
        "            elif(i == \"M\"):\n",
        "                m = mm\n",
        "                mm = ''\n",
        "            else:\n",
        "                s = mm\n",
        "                mm = ''\n",
        "    if(h==''):\n",
        "        h = '00'\n",
        "    if(m == ''):\n",
        "        m = '00'\n",
        "    if(s==''):\n",
        "        s='00'\n",
        "    bp = h+':'+m+':'+s\n",
        "    return bp"
      ],
      "execution_count": null,
      "outputs": []
    },
    {
      "cell_type": "code",
      "metadata": {
        "colab": {
          "base_uri": "https://localhost:8080/",
          "height": 203
        },
        "id": "TUSchn7Q2s5G",
        "outputId": "e6189842-2528-47ee-8c18-8005618a52b6"
      },
      "source": [
        "mp = pd.read_csv(\"train.csv\")[\"duration\"]\n",
        "time = mp.apply(checki)\n",
        "\n",
        "def func_sec(time_string):\n",
        "    h, m, s = time_string.split(':')\n",
        "    return int(h) * 3600 + int(m) * 60 + int(s)\n",
        "\n",
        "time1=time.apply(func_sec)\n",
        "\n",
        "data[\"duration\"]=time1\n",
        "data.head()"
      ],
      "execution_count": null,
      "outputs": [
        {
          "output_type": "execute_result",
          "data": {
            "text/html": [
              "<div>\n",
              "<style scoped>\n",
              "    .dataframe tbody tr th:only-of-type {\n",
              "        vertical-align: middle;\n",
              "    }\n",
              "\n",
              "    .dataframe tbody tr th {\n",
              "        vertical-align: top;\n",
              "    }\n",
              "\n",
              "    .dataframe thead th {\n",
              "        text-align: right;\n",
              "    }\n",
              "</style>\n",
              "<table border=\"1\" class=\"dataframe\">\n",
              "  <thead>\n",
              "    <tr style=\"text-align: right;\">\n",
              "      <th></th>\n",
              "      <th>vidid</th>\n",
              "      <th>adview</th>\n",
              "      <th>views</th>\n",
              "      <th>likes</th>\n",
              "      <th>dislikes</th>\n",
              "      <th>comment</th>\n",
              "      <th>published</th>\n",
              "      <th>duration</th>\n",
              "      <th>category</th>\n",
              "    </tr>\n",
              "  </thead>\n",
              "  <tbody>\n",
              "    <tr>\n",
              "      <th>0</th>\n",
              "      <td>6078</td>\n",
              "      <td>40.0</td>\n",
              "      <td>1031602.0</td>\n",
              "      <td>8523.0</td>\n",
              "      <td>363.0</td>\n",
              "      <td>1095.0</td>\n",
              "      <td>2170</td>\n",
              "      <td>457</td>\n",
              "      <td>6</td>\n",
              "    </tr>\n",
              "    <tr>\n",
              "      <th>1</th>\n",
              "      <td>2869</td>\n",
              "      <td>2.0</td>\n",
              "      <td>1707.0</td>\n",
              "      <td>56.0</td>\n",
              "      <td>2.0</td>\n",
              "      <td>6.0</td>\n",
              "      <td>2187</td>\n",
              "      <td>570</td>\n",
              "      <td>4</td>\n",
              "    </tr>\n",
              "    <tr>\n",
              "      <th>2</th>\n",
              "      <td>8339</td>\n",
              "      <td>1.0</td>\n",
              "      <td>2023.0</td>\n",
              "      <td>25.0</td>\n",
              "      <td>0.0</td>\n",
              "      <td>2.0</td>\n",
              "      <td>2096</td>\n",
              "      <td>136</td>\n",
              "      <td>3</td>\n",
              "    </tr>\n",
              "    <tr>\n",
              "      <th>3</th>\n",
              "      <td>9215</td>\n",
              "      <td>6.0</td>\n",
              "      <td>620860.0</td>\n",
              "      <td>777.0</td>\n",
              "      <td>161.0</td>\n",
              "      <td>153.0</td>\n",
              "      <td>2121</td>\n",
              "      <td>262</td>\n",
              "      <td>8</td>\n",
              "    </tr>\n",
              "    <tr>\n",
              "      <th>4</th>\n",
              "      <td>123</td>\n",
              "      <td>1.0</td>\n",
              "      <td>666.0</td>\n",
              "      <td>1.0</td>\n",
              "      <td>0.0</td>\n",
              "      <td>0.0</td>\n",
              "      <td>2093</td>\n",
              "      <td>31</td>\n",
              "      <td>4</td>\n",
              "    </tr>\n",
              "  </tbody>\n",
              "</table>\n",
              "</div>"
            ],
            "text/plain": [
              "   vidid  adview      views   likes  ...  comment  published  duration  category\n",
              "0   6078    40.0  1031602.0  8523.0  ...   1095.0       2170       457         6\n",
              "1   2869     2.0     1707.0    56.0  ...      6.0       2187       570         4\n",
              "2   8339     1.0     2023.0    25.0  ...      2.0       2096       136         3\n",
              "3   9215     6.0   620860.0   777.0  ...    153.0       2121       262         8\n",
              "4    123     1.0      666.0     1.0  ...      0.0       2093        31         4\n",
              "\n",
              "[5 rows x 9 columns]"
            ]
          },
          "metadata": {},
          "execution_count": 29
        }
      ]
    },
    {
      "cell_type": "code",
      "metadata": {
        "colab": {
          "base_uri": "https://localhost:8080/"
        },
        "id": "ieqY66Tx2CaU",
        "outputId": "f0f3e9ca-40c3-4658-925c-ab509fc2d055"
      },
      "source": [
        "data.isnull().sum()"
      ],
      "execution_count": null,
      "outputs": [
        {
          "output_type": "execute_result",
          "data": {
            "text/plain": [
              "vidid          0\n",
              "adview         1\n",
              "views          2\n",
              "likes        155\n",
              "dislikes     155\n",
              "comment      233\n",
              "published      0\n",
              "duration       0\n",
              "category       0\n",
              "dtype: int64"
            ]
          },
          "metadata": {},
          "execution_count": 30
        }
      ]
    },
    {
      "cell_type": "code",
      "metadata": {
        "colab": {
          "base_uri": "https://localhost:8080/"
        },
        "id": "LNboK7Dk2fib",
        "outputId": "550207fe-4882-4fa7-c760-228aaa8bef4d"
      },
      "source": [
        "data = data.fillna(method='ffill')\n",
        "data.isnull().sum()"
      ],
      "execution_count": null,
      "outputs": [
        {
          "output_type": "execute_result",
          "data": {
            "text/plain": [
              "vidid        0\n",
              "adview       0\n",
              "views        0\n",
              "likes        0\n",
              "dislikes     0\n",
              "comment      0\n",
              "published    0\n",
              "duration     0\n",
              "category     0\n",
              "dtype: int64"
            ]
          },
          "metadata": {},
          "execution_count": 31
        }
      ]
    },
    {
      "cell_type": "code",
      "metadata": {
        "colab": {
          "base_uri": "https://localhost:8080/",
          "height": 203
        },
        "id": "LdT64xX82s5G",
        "outputId": "bab18de0-c6fb-4b3d-e99c-7a9e97e801ea"
      },
      "source": [
        "# Independent and Dependent variables\n",
        "y = data['adview']\n",
        "x = data.drop(columns =['adview','vidid'])\n",
        "x.head()"
      ],
      "execution_count": null,
      "outputs": [
        {
          "output_type": "execute_result",
          "data": {
            "text/html": [
              "<div>\n",
              "<style scoped>\n",
              "    .dataframe tbody tr th:only-of-type {\n",
              "        vertical-align: middle;\n",
              "    }\n",
              "\n",
              "    .dataframe tbody tr th {\n",
              "        vertical-align: top;\n",
              "    }\n",
              "\n",
              "    .dataframe thead th {\n",
              "        text-align: right;\n",
              "    }\n",
              "</style>\n",
              "<table border=\"1\" class=\"dataframe\">\n",
              "  <thead>\n",
              "    <tr style=\"text-align: right;\">\n",
              "      <th></th>\n",
              "      <th>views</th>\n",
              "      <th>likes</th>\n",
              "      <th>dislikes</th>\n",
              "      <th>comment</th>\n",
              "      <th>published</th>\n",
              "      <th>duration</th>\n",
              "      <th>category</th>\n",
              "    </tr>\n",
              "  </thead>\n",
              "  <tbody>\n",
              "    <tr>\n",
              "      <th>0</th>\n",
              "      <td>1031602.0</td>\n",
              "      <td>8523.0</td>\n",
              "      <td>363.0</td>\n",
              "      <td>1095.0</td>\n",
              "      <td>2170</td>\n",
              "      <td>457</td>\n",
              "      <td>6</td>\n",
              "    </tr>\n",
              "    <tr>\n",
              "      <th>1</th>\n",
              "      <td>1707.0</td>\n",
              "      <td>56.0</td>\n",
              "      <td>2.0</td>\n",
              "      <td>6.0</td>\n",
              "      <td>2187</td>\n",
              "      <td>570</td>\n",
              "      <td>4</td>\n",
              "    </tr>\n",
              "    <tr>\n",
              "      <th>2</th>\n",
              "      <td>2023.0</td>\n",
              "      <td>25.0</td>\n",
              "      <td>0.0</td>\n",
              "      <td>2.0</td>\n",
              "      <td>2096</td>\n",
              "      <td>136</td>\n",
              "      <td>3</td>\n",
              "    </tr>\n",
              "    <tr>\n",
              "      <th>3</th>\n",
              "      <td>620860.0</td>\n",
              "      <td>777.0</td>\n",
              "      <td>161.0</td>\n",
              "      <td>153.0</td>\n",
              "      <td>2121</td>\n",
              "      <td>262</td>\n",
              "      <td>8</td>\n",
              "    </tr>\n",
              "    <tr>\n",
              "      <th>4</th>\n",
              "      <td>666.0</td>\n",
              "      <td>1.0</td>\n",
              "      <td>0.0</td>\n",
              "      <td>0.0</td>\n",
              "      <td>2093</td>\n",
              "      <td>31</td>\n",
              "      <td>4</td>\n",
              "    </tr>\n",
              "  </tbody>\n",
              "</table>\n",
              "</div>"
            ],
            "text/plain": [
              "       views   likes  dislikes  comment  published  duration  category\n",
              "0  1031602.0  8523.0     363.0   1095.0       2170       457         6\n",
              "1     1707.0    56.0       2.0      6.0       2187       570         4\n",
              "2     2023.0    25.0       0.0      2.0       2096       136         3\n",
              "3   620860.0   777.0     161.0    153.0       2121       262         8\n",
              "4      666.0     1.0       0.0      0.0       2093        31         4"
            ]
          },
          "metadata": {},
          "execution_count": 32
        }
      ]
    },
    {
      "cell_type": "code",
      "metadata": {
        "colab": {
          "base_uri": "https://localhost:8080/"
        },
        "id": "g_UDDojw5P9D",
        "outputId": "425c4005-7155-4a83-9a8b-322e6a784f35"
      },
      "source": [
        "np.any(np.isnan(x))"
      ],
      "execution_count": null,
      "outputs": [
        {
          "output_type": "execute_result",
          "data": {
            "text/plain": [
              "False"
            ]
          },
          "metadata": {},
          "execution_count": 33
        }
      ]
    },
    {
      "cell_type": "code",
      "metadata": {
        "id": "mY1DzvHA4xbl"
      },
      "source": [
        "x[np.isnan(x) == True] = 0"
      ],
      "execution_count": null,
      "outputs": []
    },
    {
      "cell_type": "code",
      "metadata": {
        "colab": {
          "base_uri": "https://localhost:8080/"
        },
        "id": "WOGsfrJy5Vr6",
        "outputId": "790d97bf-1e32-4010-c175-a59f4b25d186"
      },
      "source": [
        "np.isfinite(x.all())"
      ],
      "execution_count": null,
      "outputs": [
        {
          "output_type": "execute_result",
          "data": {
            "text/plain": [
              "views        True\n",
              "likes        True\n",
              "dislikes     True\n",
              "comment      True\n",
              "published    True\n",
              "duration     True\n",
              "category     True\n",
              "dtype: bool"
            ]
          },
          "metadata": {},
          "execution_count": 35
        }
      ]
    },
    {
      "cell_type": "code",
      "metadata": {
        "id": "amim90Qf5_Xh"
      },
      "source": [
        "data.replace([np.inf, -np.inf], np.nan, inplace=True)"
      ],
      "execution_count": null,
      "outputs": []
    },
    {
      "cell_type": "code",
      "metadata": {
        "colab": {
          "base_uri": "https://localhost:8080/"
        },
        "id": "FZpve3Hc2s5G",
        "outputId": "e1fe7318-5a24-4635-85a7-28e5a9348712"
      },
      "source": [
        "#train test split\n",
        "from sklearn.model_selection import train_test_split\n",
        "x_train,x_test,y_train,y_test = train_test_split(x,y, test_size=0.2, random_state=0)\n",
        "x_train.shape"
      ],
      "execution_count": null,
      "outputs": [
        {
          "output_type": "execute_result",
          "data": {
            "text/plain": [
              "(11999, 7)"
            ]
          },
          "metadata": {},
          "execution_count": 37
        }
      ]
    },
    {
      "cell_type": "code",
      "metadata": {
        "colab": {
          "base_uri": "https://localhost:8080/"
        },
        "id": "cNV2i8KT2s5H",
        "outputId": "e9f854d0-2ad5-4753-80d0-2acbc7769f9c"
      },
      "source": [
        "x_train.mean()"
      ],
      "execution_count": null,
      "outputs": [
        {
          "output_type": "execute_result",
          "data": {
            "text/plain": [
              "views        694135.186432\n",
              "likes          2734.863239\n",
              "dislikes        252.546212\n",
              "comment         405.098925\n",
              "published      1554.100425\n",
              "duration       1041.028252\n",
              "category          4.602217\n",
              "dtype: float64"
            ]
          },
          "metadata": {},
          "execution_count": 38
        }
      ]
    },
    {
      "cell_type": "code",
      "metadata": {
        "id": "VGaxpu2L2s5H"
      },
      "source": [
        "# Normalise data\n",
        "from sklearn.preprocessing import MinMaxScaler\n",
        "mms= MinMaxScaler()\n",
        "x_train= mms.fit_transform(x_train)\n",
        "x_test = mms.fit_transform(x_test)"
      ],
      "execution_count": null,
      "outputs": []
    },
    {
      "cell_type": "markdown",
      "metadata": {
        "id": "mNTty3N0v0Og"
      },
      "source": [
        "# Model building and testing"
      ]
    },
    {
      "cell_type": "code",
      "metadata": {
        "id": "HwlKJ1gB2s5H"
      },
      "source": [
        "# Evaluation metrics\n",
        "from sklearn import metrics\n",
        "from sklearn.metrics import r2_score\n",
        "def print_error(x_test,y_test,model):\n",
        "    y_pred= model.predict(x_test)\n",
        "    print('Mean Absolute Error:',metrics.mean_absolute_error(y_test,y_pred))\n",
        "    print('Mean Squared Error:',metrics.mean_squared_error(y_test,y_pred))\n",
        "    print('Root Mean Absolute Error:',np.sqrt(metrics.mean_absolute_error(y_test,y_pred)))\n",
        "    return metrics.mean_squared_error(y_test,y_pred)"
      ],
      "execution_count": null,
      "outputs": []
    },
    {
      "cell_type": "code",
      "metadata": {
        "colab": {
          "base_uri": "https://localhost:8080/"
        },
        "id": "NThjq73r2s5H",
        "outputId": "e550ebd6-f74e-489d-b774-7ca7e081b5c0"
      },
      "source": [
        "# Linear Regressor\n",
        "from sklearn import linear_model\n",
        "lr = linear_model.LinearRegression()\n",
        "lr.fit(x_train,y_train)\n",
        "error1= print_error(x_test, y_test, lr)"
      ],
      "execution_count": null,
      "outputs": [
        {
          "output_type": "stream",
          "text": [
            "Mean Absolute Error: 3473.8757897875075\n",
            "Mean Squared Error: 332490884.1916346\n",
            "Root Mean Absolute Error: 58.939594414854156\n"
          ],
          "name": "stdout"
        }
      ]
    },
    {
      "cell_type": "code",
      "metadata": {
        "id": "slcaW6Mq2s5I",
        "colab": {
          "base_uri": "https://localhost:8080/"
        },
        "outputId": "3981ab1f-5d3e-4b1d-e7b5-f3320d848ca6"
      },
      "source": [
        "# Support vector Regressor\n",
        "from sklearn.svm import SVR\n",
        "svr = SVR()\n",
        "svr = svr.fit(x_train,y_train)\n",
        "error2= print_error(x_test,y_test,svr)"
      ],
      "execution_count": null,
      "outputs": [
        {
          "output_type": "stream",
          "text": [
            "Mean Absolute Error: 1665.3388179134429\n",
            "Mean Squared Error: 330858618.51406544\n",
            "Root Mean Absolute Error: 40.80856304641763\n"
          ],
          "name": "stdout"
        }
      ]
    },
    {
      "cell_type": "code",
      "metadata": {
        "id": "p_E9zQxS2s5I",
        "colab": {
          "base_uri": "https://localhost:8080/"
        },
        "outputId": "62e6401c-8930-40fc-c385-6367e3427119"
      },
      "source": [
        "# Decision Tree Regressor\n",
        "from sklearn.tree import DecisionTreeRegressor\n",
        "decision_tree = DecisionTreeRegressor()\n",
        "decision_tree.fit(x_train, y_train)\n",
        "error3= print_error(x_test,y_test, decision_tree)"
      ],
      "execution_count": null,
      "outputs": [
        {
          "output_type": "stream",
          "text": [
            "Mean Absolute Error: 3123.02\n",
            "Mean Squared Error: 1909893492.934\n",
            "Root Mean Absolute Error: 55.88398697301401\n"
          ],
          "name": "stdout"
        }
      ]
    },
    {
      "cell_type": "code",
      "metadata": {
        "id": "bbGGed2A2s5J",
        "colab": {
          "base_uri": "https://localhost:8080/"
        },
        "outputId": "d6fa63f5-aa9c-4a4a-a0b4-6fac3f46f093"
      },
      "source": [
        "# Random Forest Regressor\n",
        "from sklearn.ensemble import RandomForestRegressor\n",
        "n_estimators = 200\n",
        "max_depth = 25\n",
        "min_samples_split=15\n",
        "min_samples_leaf=2\n",
        "random_forest = RandomForestRegressor(n_estimators = n_estimators, \n",
        "                                      max_depth = max_depth, \n",
        "                                      min_samples_split=min_samples_split,\n",
        "                                      min_samples_leaf=min_samples_leaf)\n",
        "random_forest.fit(x_train,y_train)\n",
        "error4= print_error(x_test,y_test, random_forest)"
      ],
      "execution_count": null,
      "outputs": [
        {
          "output_type": "stream",
          "text": [
            "Mean Absolute Error: 3318.4532308597695\n",
            "Mean Squared Error: 438552460.75925833\n",
            "Root Mean Absolute Error: 57.60601731468484\n"
          ],
          "name": "stdout"
        }
      ]
    },
    {
      "cell_type": "code",
      "metadata": {
        "colab": {
          "base_uri": "https://localhost:8080/"
        },
        "id": "9VfjnSWjJd-C",
        "outputId": "9114354c-6b87-4d61-c2f8-5fcc9b730a5b"
      },
      "source": [
        "min(error1,error2,error3,error4)"
      ],
      "execution_count": null,
      "outputs": [
        {
          "output_type": "execute_result",
          "data": {
            "text/plain": [
              "330858618.51406544"
            ]
          },
          "metadata": {},
          "execution_count": 56
        }
      ]
    },
    {
      "cell_type": "code",
      "metadata": {
        "id": "Ki2x3dFKpOyq",
        "colab": {
          "base_uri": "https://localhost:8080/"
        },
        "outputId": "2bd72503-5008-45b5-e8a6-13148d933560"
      },
      "source": [
        "#Saving Scikitlearn models\n",
        "import joblib\n",
        "joblib.dump(svr, \"svr_youtubeadview.pkl\")\n",
        "\n",
        "# Saving Keras Artificial Neural Network model\n",
        "#ann.save(\"ann_youtubeadview.h5\")"
      ],
      "execution_count": null,
      "outputs": [
        {
          "output_type": "execute_result",
          "data": {
            "text/plain": [
              "['svr_youtubeadview.pkl']"
            ]
          },
          "metadata": {},
          "execution_count": 57
        }
      ]
    },
    {
      "cell_type": "markdown",
      "metadata": {
        "id": "C24fRMUUJzoV"
      },
      "source": [
        "## Support Vector Machine gives the lowest mean squared error."
      ]
    },
    {
      "cell_type": "markdown",
      "metadata": {
        "id": "Aw3Njqz2vspJ"
      },
      "source": [
        "# Prediction"
      ]
    },
    {
      "cell_type": "code",
      "metadata": {
        "colab": {
          "base_uri": "https://localhost:8080/",
          "height": 203
        },
        "id": "8NJlOBhAsJI7",
        "outputId": "29302b42-42f3-4df3-a9eb-c70587a547c7"
      },
      "source": [
        "data1 = pd.read_csv('https://raw.githubusercontent.com/PonPradeep/Machine-Learning/main/test.csv')\n",
        "data1.head()"
      ],
      "execution_count": null,
      "outputs": [
        {
          "output_type": "execute_result",
          "data": {
            "text/html": [
              "<div>\n",
              "<style scoped>\n",
              "    .dataframe tbody tr th:only-of-type {\n",
              "        vertical-align: middle;\n",
              "    }\n",
              "\n",
              "    .dataframe tbody tr th {\n",
              "        vertical-align: top;\n",
              "    }\n",
              "\n",
              "    .dataframe thead th {\n",
              "        text-align: right;\n",
              "    }\n",
              "</style>\n",
              "<table border=\"1\" class=\"dataframe\">\n",
              "  <thead>\n",
              "    <tr style=\"text-align: right;\">\n",
              "      <th></th>\n",
              "      <th>vidid</th>\n",
              "      <th>views</th>\n",
              "      <th>likes</th>\n",
              "      <th>dislikes</th>\n",
              "      <th>comment</th>\n",
              "      <th>published</th>\n",
              "      <th>duration</th>\n",
              "      <th>category</th>\n",
              "    </tr>\n",
              "  </thead>\n",
              "  <tbody>\n",
              "    <tr>\n",
              "      <th>0</th>\n",
              "      <td>VID_1054</td>\n",
              "      <td>440238</td>\n",
              "      <td>6153</td>\n",
              "      <td>218</td>\n",
              "      <td>1377</td>\n",
              "      <td>2017-02-18</td>\n",
              "      <td>PT7M29S</td>\n",
              "      <td>B</td>\n",
              "    </tr>\n",
              "    <tr>\n",
              "      <th>1</th>\n",
              "      <td>VID_18629</td>\n",
              "      <td>1040132</td>\n",
              "      <td>8171</td>\n",
              "      <td>340</td>\n",
              "      <td>1047</td>\n",
              "      <td>2016-06-28</td>\n",
              "      <td>PT6M29S</td>\n",
              "      <td>F</td>\n",
              "    </tr>\n",
              "    <tr>\n",
              "      <th>2</th>\n",
              "      <td>VID_13967</td>\n",
              "      <td>28534</td>\n",
              "      <td>31</td>\n",
              "      <td>11</td>\n",
              "      <td>1</td>\n",
              "      <td>2014-03-10</td>\n",
              "      <td>PT37M54S</td>\n",
              "      <td>D</td>\n",
              "    </tr>\n",
              "    <tr>\n",
              "      <th>3</th>\n",
              "      <td>VID_19442</td>\n",
              "      <td>1316715</td>\n",
              "      <td>2284</td>\n",
              "      <td>250</td>\n",
              "      <td>274</td>\n",
              "      <td>2010-06-05</td>\n",
              "      <td>PT9M55S</td>\n",
              "      <td>G</td>\n",
              "    </tr>\n",
              "    <tr>\n",
              "      <th>4</th>\n",
              "      <td>VID_770</td>\n",
              "      <td>1893173</td>\n",
              "      <td>2519</td>\n",
              "      <td>225</td>\n",
              "      <td>116</td>\n",
              "      <td>2016-09-03</td>\n",
              "      <td>PT3M8S</td>\n",
              "      <td>B</td>\n",
              "    </tr>\n",
              "  </tbody>\n",
              "</table>\n",
              "</div>"
            ],
            "text/plain": [
              "       vidid    views likes dislikes comment   published  duration category\n",
              "0   VID_1054   440238  6153      218    1377  2017-02-18   PT7M29S        B\n",
              "1  VID_18629  1040132  8171      340    1047  2016-06-28   PT6M29S        F\n",
              "2  VID_13967    28534    31       11       1  2014-03-10  PT37M54S        D\n",
              "3  VID_19442  1316715  2284      250     274  2010-06-05   PT9M55S        G\n",
              "4    VID_770  1893173  2519      225     116  2016-09-03    PT3M8S        B"
            ]
          },
          "metadata": {},
          "execution_count": 62
        }
      ]
    },
    {
      "cell_type": "code",
      "metadata": {
        "colab": {
          "base_uri": "https://localhost:8080/"
        },
        "id": "HoBYH6Bbvp8Z",
        "outputId": "7372372a-b38f-4d0e-c2b5-d7ed7b04af1c"
      },
      "source": [
        "data1.shape"
      ],
      "execution_count": null,
      "outputs": [
        {
          "output_type": "execute_result",
          "data": {
            "text/plain": [
              "(8764, 8)"
            ]
          },
          "metadata": {},
          "execution_count": 65
        }
      ]
    },
    {
      "cell_type": "code",
      "metadata": {
        "colab": {
          "base_uri": "https://localhost:8080/"
        },
        "id": "niOYWzTkvwgn",
        "outputId": "186e30c4-1dd1-455b-b4db-e2f2e2e76fe2"
      },
      "source": [
        "data1.isnull().sum()"
      ],
      "execution_count": null,
      "outputs": [
        {
          "output_type": "execute_result",
          "data": {
            "text/plain": [
              "vidid        0\n",
              "views        0\n",
              "likes        0\n",
              "dislikes     0\n",
              "comment      0\n",
              "published    0\n",
              "duration     0\n",
              "category     0\n",
              "dtype: int64"
            ]
          },
          "metadata": {},
          "execution_count": 66
        }
      ]
    },
    {
      "cell_type": "code",
      "metadata": {
        "colab": {
          "base_uri": "https://localhost:8080/"
        },
        "id": "hWWbTcKDv1dO",
        "outputId": "7327528c-c64e-484e-a486-84723f5cbaf5"
      },
      "source": [
        "data1.dtypes"
      ],
      "execution_count": null,
      "outputs": [
        {
          "output_type": "execute_result",
          "data": {
            "text/plain": [
              "vidid        object\n",
              "views        object\n",
              "likes        object\n",
              "dislikes     object\n",
              "comment      object\n",
              "published    object\n",
              "duration     object\n",
              "category     object\n",
              "dtype: object"
            ]
          },
          "metadata": {},
          "execution_count": 67
        }
      ]
    },
    {
      "cell_type": "code",
      "metadata": {
        "colab": {
          "base_uri": "https://localhost:8080/",
          "height": 203
        },
        "id": "Kxxfa0vOwGz8",
        "outputId": "c59005f7-17f5-44cf-f569-e0c5c780f832"
      },
      "source": [
        "# Removing value 'F' from the columns\n",
        "numericals = ['views','likes','dislikes','comment']\n",
        "data1[numericals] = data1[numericals][data1[numericals]!='F']\n",
        "data1[numericals].head()"
      ],
      "execution_count": null,
      "outputs": [
        {
          "output_type": "execute_result",
          "data": {
            "text/html": [
              "<div>\n",
              "<style scoped>\n",
              "    .dataframe tbody tr th:only-of-type {\n",
              "        vertical-align: middle;\n",
              "    }\n",
              "\n",
              "    .dataframe tbody tr th {\n",
              "        vertical-align: top;\n",
              "    }\n",
              "\n",
              "    .dataframe thead th {\n",
              "        text-align: right;\n",
              "    }\n",
              "</style>\n",
              "<table border=\"1\" class=\"dataframe\">\n",
              "  <thead>\n",
              "    <tr style=\"text-align: right;\">\n",
              "      <th></th>\n",
              "      <th>views</th>\n",
              "      <th>likes</th>\n",
              "      <th>dislikes</th>\n",
              "      <th>comment</th>\n",
              "    </tr>\n",
              "  </thead>\n",
              "  <tbody>\n",
              "    <tr>\n",
              "      <th>0</th>\n",
              "      <td>440238</td>\n",
              "      <td>6153</td>\n",
              "      <td>218</td>\n",
              "      <td>1377</td>\n",
              "    </tr>\n",
              "    <tr>\n",
              "      <th>1</th>\n",
              "      <td>1040132</td>\n",
              "      <td>8171</td>\n",
              "      <td>340</td>\n",
              "      <td>1047</td>\n",
              "    </tr>\n",
              "    <tr>\n",
              "      <th>2</th>\n",
              "      <td>28534</td>\n",
              "      <td>31</td>\n",
              "      <td>11</td>\n",
              "      <td>1</td>\n",
              "    </tr>\n",
              "    <tr>\n",
              "      <th>3</th>\n",
              "      <td>1316715</td>\n",
              "      <td>2284</td>\n",
              "      <td>250</td>\n",
              "      <td>274</td>\n",
              "    </tr>\n",
              "    <tr>\n",
              "      <th>4</th>\n",
              "      <td>1893173</td>\n",
              "      <td>2519</td>\n",
              "      <td>225</td>\n",
              "      <td>116</td>\n",
              "    </tr>\n",
              "  </tbody>\n",
              "</table>\n",
              "</div>"
            ],
            "text/plain": [
              "     views likes dislikes comment\n",
              "0   440238  6153      218    1377\n",
              "1  1040132  8171      340    1047\n",
              "2    28534    31       11       1\n",
              "3  1316715  2284      250     274\n",
              "4  1893173  2519      225     116"
            ]
          },
          "metadata": {},
          "execution_count": 68
        }
      ]
    },
    {
      "cell_type": "code",
      "metadata": {
        "colab": {
          "base_uri": "https://localhost:8080/"
        },
        "id": "tkwJr_2SwW4x",
        "outputId": "08588832-d574-4aa6-c9d7-50eee12e0d95"
      },
      "source": [
        "data1[numericals] = data1[numericals].apply(pd.to_numeric)\n",
        "data1.info()"
      ],
      "execution_count": null,
      "outputs": [
        {
          "output_type": "stream",
          "text": [
            "<class 'pandas.core.frame.DataFrame'>\n",
            "RangeIndex: 8764 entries, 0 to 8763\n",
            "Data columns (total 8 columns):\n",
            " #   Column     Non-Null Count  Dtype  \n",
            "---  ------     --------------  -----  \n",
            " 0   vidid      8764 non-null   object \n",
            " 1   views      8763 non-null   float64\n",
            " 2   likes      8676 non-null   float64\n",
            " 3   dislikes   8676 non-null   float64\n",
            " 4   comment    8613 non-null   float64\n",
            " 5   published  8764 non-null   object \n",
            " 6   duration   8764 non-null   object \n",
            " 7   category   8764 non-null   object \n",
            "dtypes: float64(4), object(4)\n",
            "memory usage: 547.9+ KB\n"
          ],
          "name": "stdout"
        }
      ]
    },
    {
      "cell_type": "code",
      "metadata": {
        "id": "iwcJRY7QxLGo"
      },
      "source": [
        "from sklearn.preprocessing import LabelEncoder\n",
        "\n",
        "data1['published'] = LabelEncoder().fit_transform(data1['published'])"
      ],
      "execution_count": null,
      "outputs": []
    },
    {
      "cell_type": "code",
      "metadata": {
        "colab": {
          "base_uri": "https://localhost:8080/"
        },
        "id": "tbU4H1Fp0vpp",
        "outputId": "9b280c68-5712-4ca3-992e-d6b69f8208eb"
      },
      "source": [
        "data1['category'].unique()"
      ],
      "execution_count": null,
      "outputs": [
        {
          "output_type": "execute_result",
          "data": {
            "text/plain": [
              "array(['B', 'F', 'D', 'G', 'A', 'E', 'H', 'C'], dtype=object)"
            ]
          },
          "metadata": {},
          "execution_count": 71
        }
      ]
    },
    {
      "cell_type": "code",
      "metadata": {
        "colab": {
          "base_uri": "https://localhost:8080/",
          "height": 203
        },
        "id": "yyjR_plJz8gq",
        "outputId": "d8ed684a-1091-44ad-ce5e-ca0752e08c3e"
      },
      "source": [
        "cate = {'A':1, \"B\":2, \"C\":3, \"D\":4, \"E\":5, \"F\":6, \"G\":7, \"H\":8}\n",
        "data1['category']= data1['category'].map(cate)\n",
        "data1.head()"
      ],
      "execution_count": null,
      "outputs": [
        {
          "output_type": "execute_result",
          "data": {
            "text/html": [
              "<div>\n",
              "<style scoped>\n",
              "    .dataframe tbody tr th:only-of-type {\n",
              "        vertical-align: middle;\n",
              "    }\n",
              "\n",
              "    .dataframe tbody tr th {\n",
              "        vertical-align: top;\n",
              "    }\n",
              "\n",
              "    .dataframe thead th {\n",
              "        text-align: right;\n",
              "    }\n",
              "</style>\n",
              "<table border=\"1\" class=\"dataframe\">\n",
              "  <thead>\n",
              "    <tr style=\"text-align: right;\">\n",
              "      <th></th>\n",
              "      <th>vidid</th>\n",
              "      <th>views</th>\n",
              "      <th>likes</th>\n",
              "      <th>dislikes</th>\n",
              "      <th>comment</th>\n",
              "      <th>published</th>\n",
              "      <th>duration</th>\n",
              "      <th>category</th>\n",
              "    </tr>\n",
              "  </thead>\n",
              "  <tbody>\n",
              "    <tr>\n",
              "      <th>0</th>\n",
              "      <td>VID_1054</td>\n",
              "      <td>440238.0</td>\n",
              "      <td>6153.0</td>\n",
              "      <td>218.0</td>\n",
              "      <td>1377.0</td>\n",
              "      <td>2055</td>\n",
              "      <td>PT7M29S</td>\n",
              "      <td>2</td>\n",
              "    </tr>\n",
              "    <tr>\n",
              "      <th>1</th>\n",
              "      <td>VID_18629</td>\n",
              "      <td>1040132.0</td>\n",
              "      <td>8171.0</td>\n",
              "      <td>340.0</td>\n",
              "      <td>1047.0</td>\n",
              "      <td>1827</td>\n",
              "      <td>PT6M29S</td>\n",
              "      <td>6</td>\n",
              "    </tr>\n",
              "    <tr>\n",
              "      <th>2</th>\n",
              "      <td>VID_13967</td>\n",
              "      <td>28534.0</td>\n",
              "      <td>31.0</td>\n",
              "      <td>11.0</td>\n",
              "      <td>1.0</td>\n",
              "      <td>1010</td>\n",
              "      <td>PT37M54S</td>\n",
              "      <td>4</td>\n",
              "    </tr>\n",
              "    <tr>\n",
              "      <th>3</th>\n",
              "      <td>VID_19442</td>\n",
              "      <td>1316715.0</td>\n",
              "      <td>2284.0</td>\n",
              "      <td>250.0</td>\n",
              "      <td>274.0</td>\n",
              "      <td>117</td>\n",
              "      <td>PT9M55S</td>\n",
              "      <td>7</td>\n",
              "    </tr>\n",
              "    <tr>\n",
              "      <th>4</th>\n",
              "      <td>VID_770</td>\n",
              "      <td>1893173.0</td>\n",
              "      <td>2519.0</td>\n",
              "      <td>225.0</td>\n",
              "      <td>116.0</td>\n",
              "      <td>1894</td>\n",
              "      <td>PT3M8S</td>\n",
              "      <td>2</td>\n",
              "    </tr>\n",
              "  </tbody>\n",
              "</table>\n",
              "</div>"
            ],
            "text/plain": [
              "       vidid      views   likes  ...  published  duration  category\n",
              "0   VID_1054   440238.0  6153.0  ...       2055   PT7M29S         2\n",
              "1  VID_18629  1040132.0  8171.0  ...       1827   PT6M29S         6\n",
              "2  VID_13967    28534.0    31.0  ...       1010  PT37M54S         4\n",
              "3  VID_19442  1316715.0  2284.0  ...        117   PT9M55S         7\n",
              "4    VID_770  1893173.0  2519.0  ...       1894    PT3M8S         2\n",
              "\n",
              "[5 rows x 8 columns]"
            ]
          },
          "metadata": {},
          "execution_count": 72
        }
      ]
    },
    {
      "cell_type": "code",
      "metadata": {
        "id": "PYLAD4ki0R2_"
      },
      "source": [
        "# Convert Time_in_sec for duration\n",
        "import datetime\n",
        "import time\n",
        "\n",
        "def checki(x):\n",
        "    y = x[2:]\n",
        "  \n",
        "    h = ''\n",
        "    m = ''\n",
        "    s = ''\n",
        "    mm = ''\n",
        "    P = ['H','M','S']\n",
        "    for i in y:\n",
        "        if i not in P:\n",
        "            mm+=i\n",
        "        else:\n",
        "            if(i==\"H\"):\n",
        "                h = mm\n",
        "                mm = ''\n",
        "            elif(i == \"M\"):\n",
        "                m = mm\n",
        "                mm = ''\n",
        "            else:\n",
        "                s = mm\n",
        "                mm = ''\n",
        "    if(h==''):\n",
        "        h = '00'\n",
        "    if(m == ''):\n",
        "        m = '00'\n",
        "    if(s==''):\n",
        "        s='00'\n",
        "    bp = h+':'+m+':'+s\n",
        "    return bp"
      ],
      "execution_count": null,
      "outputs": []
    },
    {
      "cell_type": "code",
      "metadata": {
        "colab": {
          "base_uri": "https://localhost:8080/",
          "height": 203
        },
        "id": "T2LM7xLW4fec",
        "outputId": "2cbbf903-2269-4722-f684-beefb5cf6b2c"
      },
      "source": [
        "mp = pd.read_csv(\"test.csv\")[\"duration\"]\n",
        "time = mp.apply(checki)\n",
        "\n",
        "def func_sec(time_string):\n",
        "    h, m, s = time_string.split(':')\n",
        "    return int(h) * 3600 + int(m) * 60 + int(s)\n",
        "\n",
        "time1=time.apply(func_sec)\n",
        "\n",
        "data1[\"duration\"]=time1\n",
        "data1.head()"
      ],
      "execution_count": null,
      "outputs": [
        {
          "output_type": "execute_result",
          "data": {
            "text/html": [
              "<div>\n",
              "<style scoped>\n",
              "    .dataframe tbody tr th:only-of-type {\n",
              "        vertical-align: middle;\n",
              "    }\n",
              "\n",
              "    .dataframe tbody tr th {\n",
              "        vertical-align: top;\n",
              "    }\n",
              "\n",
              "    .dataframe thead th {\n",
              "        text-align: right;\n",
              "    }\n",
              "</style>\n",
              "<table border=\"1\" class=\"dataframe\">\n",
              "  <thead>\n",
              "    <tr style=\"text-align: right;\">\n",
              "      <th></th>\n",
              "      <th>vidid</th>\n",
              "      <th>views</th>\n",
              "      <th>likes</th>\n",
              "      <th>dislikes</th>\n",
              "      <th>comment</th>\n",
              "      <th>published</th>\n",
              "      <th>duration</th>\n",
              "      <th>category</th>\n",
              "    </tr>\n",
              "  </thead>\n",
              "  <tbody>\n",
              "    <tr>\n",
              "      <th>0</th>\n",
              "      <td>VID_1054</td>\n",
              "      <td>440238.0</td>\n",
              "      <td>6153.0</td>\n",
              "      <td>218.0</td>\n",
              "      <td>1377.0</td>\n",
              "      <td>2055</td>\n",
              "      <td>449</td>\n",
              "      <td>2</td>\n",
              "    </tr>\n",
              "    <tr>\n",
              "      <th>1</th>\n",
              "      <td>VID_18629</td>\n",
              "      <td>1040132.0</td>\n",
              "      <td>8171.0</td>\n",
              "      <td>340.0</td>\n",
              "      <td>1047.0</td>\n",
              "      <td>1827</td>\n",
              "      <td>389</td>\n",
              "      <td>6</td>\n",
              "    </tr>\n",
              "    <tr>\n",
              "      <th>2</th>\n",
              "      <td>VID_13967</td>\n",
              "      <td>28534.0</td>\n",
              "      <td>31.0</td>\n",
              "      <td>11.0</td>\n",
              "      <td>1.0</td>\n",
              "      <td>1010</td>\n",
              "      <td>2274</td>\n",
              "      <td>4</td>\n",
              "    </tr>\n",
              "    <tr>\n",
              "      <th>3</th>\n",
              "      <td>VID_19442</td>\n",
              "      <td>1316715.0</td>\n",
              "      <td>2284.0</td>\n",
              "      <td>250.0</td>\n",
              "      <td>274.0</td>\n",
              "      <td>117</td>\n",
              "      <td>595</td>\n",
              "      <td>7</td>\n",
              "    </tr>\n",
              "    <tr>\n",
              "      <th>4</th>\n",
              "      <td>VID_770</td>\n",
              "      <td>1893173.0</td>\n",
              "      <td>2519.0</td>\n",
              "      <td>225.0</td>\n",
              "      <td>116.0</td>\n",
              "      <td>1894</td>\n",
              "      <td>188</td>\n",
              "      <td>2</td>\n",
              "    </tr>\n",
              "  </tbody>\n",
              "</table>\n",
              "</div>"
            ],
            "text/plain": [
              "       vidid      views   likes  ...  published  duration  category\n",
              "0   VID_1054   440238.0  6153.0  ...       2055       449         2\n",
              "1  VID_18629  1040132.0  8171.0  ...       1827       389         6\n",
              "2  VID_13967    28534.0    31.0  ...       1010      2274         4\n",
              "3  VID_19442  1316715.0  2284.0  ...        117       595         7\n",
              "4    VID_770  1893173.0  2519.0  ...       1894       188         2\n",
              "\n",
              "[5 rows x 8 columns]"
            ]
          },
          "metadata": {},
          "execution_count": 74
        }
      ]
    },
    {
      "cell_type": "code",
      "metadata": {
        "colab": {
          "base_uri": "https://localhost:8080/"
        },
        "id": "rpWzzmg65VDs",
        "outputId": "c8989cba-dc6f-46e2-ad5c-18a7f4af0ad1"
      },
      "source": [
        "data1.isnull().sum()"
      ],
      "execution_count": null,
      "outputs": [
        {
          "output_type": "execute_result",
          "data": {
            "text/plain": [
              "vidid          0\n",
              "views          1\n",
              "likes         88\n",
              "dislikes      88\n",
              "comment      151\n",
              "published      0\n",
              "duration       0\n",
              "category       0\n",
              "dtype: int64"
            ]
          },
          "metadata": {},
          "execution_count": 75
        }
      ]
    },
    {
      "cell_type": "code",
      "metadata": {
        "colab": {
          "base_uri": "https://localhost:8080/"
        },
        "id": "5n5_Q1Ay5mwu",
        "outputId": "e7b39d98-a1c1-4cb1-b240-b1f5ce7e0f79"
      },
      "source": [
        "data1 = data1.fillna(method='ffill')\n",
        "data1.isnull().sum()"
      ],
      "execution_count": null,
      "outputs": [
        {
          "output_type": "execute_result",
          "data": {
            "text/plain": [
              "vidid        0\n",
              "views        0\n",
              "likes        0\n",
              "dislikes     0\n",
              "comment      0\n",
              "published    0\n",
              "duration     0\n",
              "category     0\n",
              "dtype: int64"
            ]
          },
          "metadata": {},
          "execution_count": 76
        }
      ]
    },
    {
      "cell_type": "code",
      "metadata": {
        "colab": {
          "base_uri": "https://localhost:8080/"
        },
        "id": "ggfy57a26T5A",
        "outputId": "6eaa5d34-5093-456f-eee0-6603695fa06a"
      },
      "source": [
        "np.isfinite(data1.all==True)"
      ],
      "execution_count": null,
      "outputs": [
        {
          "output_type": "execute_result",
          "data": {
            "text/plain": [
              "True"
            ]
          },
          "metadata": {},
          "execution_count": 77
        }
      ]
    },
    {
      "cell_type": "code",
      "metadata": {
        "colab": {
          "base_uri": "https://localhost:8080/",
          "height": 203
        },
        "id": "flY7JPY96pbf",
        "outputId": "15f57b7b-2b70-4ddb-f231-b5651a2269c4"
      },
      "source": [
        "data1.head()"
      ],
      "execution_count": null,
      "outputs": [
        {
          "output_type": "execute_result",
          "data": {
            "text/html": [
              "<div>\n",
              "<style scoped>\n",
              "    .dataframe tbody tr th:only-of-type {\n",
              "        vertical-align: middle;\n",
              "    }\n",
              "\n",
              "    .dataframe tbody tr th {\n",
              "        vertical-align: top;\n",
              "    }\n",
              "\n",
              "    .dataframe thead th {\n",
              "        text-align: right;\n",
              "    }\n",
              "</style>\n",
              "<table border=\"1\" class=\"dataframe\">\n",
              "  <thead>\n",
              "    <tr style=\"text-align: right;\">\n",
              "      <th></th>\n",
              "      <th>vidid</th>\n",
              "      <th>views</th>\n",
              "      <th>likes</th>\n",
              "      <th>dislikes</th>\n",
              "      <th>comment</th>\n",
              "      <th>published</th>\n",
              "      <th>duration</th>\n",
              "      <th>category</th>\n",
              "    </tr>\n",
              "  </thead>\n",
              "  <tbody>\n",
              "    <tr>\n",
              "      <th>0</th>\n",
              "      <td>VID_1054</td>\n",
              "      <td>440238.0</td>\n",
              "      <td>6153.0</td>\n",
              "      <td>218.0</td>\n",
              "      <td>1377.0</td>\n",
              "      <td>2055</td>\n",
              "      <td>449</td>\n",
              "      <td>2</td>\n",
              "    </tr>\n",
              "    <tr>\n",
              "      <th>1</th>\n",
              "      <td>VID_18629</td>\n",
              "      <td>1040132.0</td>\n",
              "      <td>8171.0</td>\n",
              "      <td>340.0</td>\n",
              "      <td>1047.0</td>\n",
              "      <td>1827</td>\n",
              "      <td>389</td>\n",
              "      <td>6</td>\n",
              "    </tr>\n",
              "    <tr>\n",
              "      <th>2</th>\n",
              "      <td>VID_13967</td>\n",
              "      <td>28534.0</td>\n",
              "      <td>31.0</td>\n",
              "      <td>11.0</td>\n",
              "      <td>1.0</td>\n",
              "      <td>1010</td>\n",
              "      <td>2274</td>\n",
              "      <td>4</td>\n",
              "    </tr>\n",
              "    <tr>\n",
              "      <th>3</th>\n",
              "      <td>VID_19442</td>\n",
              "      <td>1316715.0</td>\n",
              "      <td>2284.0</td>\n",
              "      <td>250.0</td>\n",
              "      <td>274.0</td>\n",
              "      <td>117</td>\n",
              "      <td>595</td>\n",
              "      <td>7</td>\n",
              "    </tr>\n",
              "    <tr>\n",
              "      <th>4</th>\n",
              "      <td>VID_770</td>\n",
              "      <td>1893173.0</td>\n",
              "      <td>2519.0</td>\n",
              "      <td>225.0</td>\n",
              "      <td>116.0</td>\n",
              "      <td>1894</td>\n",
              "      <td>188</td>\n",
              "      <td>2</td>\n",
              "    </tr>\n",
              "  </tbody>\n",
              "</table>\n",
              "</div>"
            ],
            "text/plain": [
              "       vidid      views   likes  ...  published  duration  category\n",
              "0   VID_1054   440238.0  6153.0  ...       2055       449         2\n",
              "1  VID_18629  1040132.0  8171.0  ...       1827       389         6\n",
              "2  VID_13967    28534.0    31.0  ...       1010      2274         4\n",
              "3  VID_19442  1316715.0  2284.0  ...        117       595         7\n",
              "4    VID_770  1893173.0  2519.0  ...       1894       188         2\n",
              "\n",
              "[5 rows x 8 columns]"
            ]
          },
          "metadata": {},
          "execution_count": 78
        }
      ]
    },
    {
      "cell_type": "code",
      "metadata": {
        "colab": {
          "base_uri": "https://localhost:8080/",
          "height": 203
        },
        "id": "90doj-vB6vXL",
        "outputId": "6284b8da-c31b-45a9-b514-38d556a6c6bb"
      },
      "source": [
        "data1.drop(columns='vidid',inplace = True)\n",
        "data1.head()"
      ],
      "execution_count": null,
      "outputs": [
        {
          "output_type": "execute_result",
          "data": {
            "text/html": [
              "<div>\n",
              "<style scoped>\n",
              "    .dataframe tbody tr th:only-of-type {\n",
              "        vertical-align: middle;\n",
              "    }\n",
              "\n",
              "    .dataframe tbody tr th {\n",
              "        vertical-align: top;\n",
              "    }\n",
              "\n",
              "    .dataframe thead th {\n",
              "        text-align: right;\n",
              "    }\n",
              "</style>\n",
              "<table border=\"1\" class=\"dataframe\">\n",
              "  <thead>\n",
              "    <tr style=\"text-align: right;\">\n",
              "      <th></th>\n",
              "      <th>views</th>\n",
              "      <th>likes</th>\n",
              "      <th>dislikes</th>\n",
              "      <th>comment</th>\n",
              "      <th>published</th>\n",
              "      <th>duration</th>\n",
              "      <th>category</th>\n",
              "    </tr>\n",
              "  </thead>\n",
              "  <tbody>\n",
              "    <tr>\n",
              "      <th>0</th>\n",
              "      <td>440238.0</td>\n",
              "      <td>6153.0</td>\n",
              "      <td>218.0</td>\n",
              "      <td>1377.0</td>\n",
              "      <td>2055</td>\n",
              "      <td>449</td>\n",
              "      <td>2</td>\n",
              "    </tr>\n",
              "    <tr>\n",
              "      <th>1</th>\n",
              "      <td>1040132.0</td>\n",
              "      <td>8171.0</td>\n",
              "      <td>340.0</td>\n",
              "      <td>1047.0</td>\n",
              "      <td>1827</td>\n",
              "      <td>389</td>\n",
              "      <td>6</td>\n",
              "    </tr>\n",
              "    <tr>\n",
              "      <th>2</th>\n",
              "      <td>28534.0</td>\n",
              "      <td>31.0</td>\n",
              "      <td>11.0</td>\n",
              "      <td>1.0</td>\n",
              "      <td>1010</td>\n",
              "      <td>2274</td>\n",
              "      <td>4</td>\n",
              "    </tr>\n",
              "    <tr>\n",
              "      <th>3</th>\n",
              "      <td>1316715.0</td>\n",
              "      <td>2284.0</td>\n",
              "      <td>250.0</td>\n",
              "      <td>274.0</td>\n",
              "      <td>117</td>\n",
              "      <td>595</td>\n",
              "      <td>7</td>\n",
              "    </tr>\n",
              "    <tr>\n",
              "      <th>4</th>\n",
              "      <td>1893173.0</td>\n",
              "      <td>2519.0</td>\n",
              "      <td>225.0</td>\n",
              "      <td>116.0</td>\n",
              "      <td>1894</td>\n",
              "      <td>188</td>\n",
              "      <td>2</td>\n",
              "    </tr>\n",
              "  </tbody>\n",
              "</table>\n",
              "</div>"
            ],
            "text/plain": [
              "       views   likes  dislikes  comment  published  duration  category\n",
              "0   440238.0  6153.0     218.0   1377.0       2055       449         2\n",
              "1  1040132.0  8171.0     340.0   1047.0       1827       389         6\n",
              "2    28534.0    31.0      11.0      1.0       1010      2274         4\n",
              "3  1316715.0  2284.0     250.0    274.0        117       595         7\n",
              "4  1893173.0  2519.0     225.0    116.0       1894       188         2"
            ]
          },
          "metadata": {},
          "execution_count": 79
        }
      ]
    },
    {
      "cell_type": "code",
      "metadata": {
        "id": "S6a_D9OB7mOW"
      },
      "source": [
        "#Normalise\n",
        "data1 = mms.fit_transform(data1)"
      ],
      "execution_count": null,
      "outputs": []
    },
    {
      "cell_type": "code",
      "metadata": {
        "id": "VEyZXpDtPXIn"
      },
      "source": [
        "model=joblib.load(\"svr_youtubeadview.pkl\")"
      ],
      "execution_count": null,
      "outputs": []
    },
    {
      "cell_type": "code",
      "metadata": {
        "colab": {
          "base_uri": "https://localhost:8080/"
        },
        "id": "_GT9P9IZ68n9",
        "outputId": "e129f065-5c71-44cf-def6-6a23cbc5f1f2"
      },
      "source": [
        "prediction = model.predict(data1)\n",
        "prediction"
      ],
      "execution_count": null,
      "outputs": [
        {
          "output_type": "execute_result",
          "data": {
            "text/plain": [
              "array([2.49660334, 2.37015998, 2.09759916, ..., 2.77413092, 1.87238574,\n",
              "       1.95875675])"
            ]
          },
          "metadata": {},
          "execution_count": 82
        }
      ]
    },
    {
      "cell_type": "code",
      "metadata": {
        "colab": {
          "base_uri": "https://localhost:8080/"
        },
        "id": "kN5NvkYzWBPQ",
        "outputId": "2baf114d-bcc2-45c7-eadc-e0fae7c87a9e"
      },
      "source": [
        "prediction= np.ceil(prediction)\n",
        "prediction"
      ],
      "execution_count": null,
      "outputs": [
        {
          "output_type": "execute_result",
          "data": {
            "text/plain": [
              "array([3., 3., 3., ..., 3., 2., 2.])"
            ]
          },
          "metadata": {},
          "execution_count": 83
        }
      ]
    },
    {
      "cell_type": "code",
      "metadata": {
        "id": "cb3Todli818Q"
      },
      "source": [
        "np.savetxt(\"predictions.csv\", prediction, delimiter=\",\")"
      ],
      "execution_count": null,
      "outputs": []
    }
  ]
}